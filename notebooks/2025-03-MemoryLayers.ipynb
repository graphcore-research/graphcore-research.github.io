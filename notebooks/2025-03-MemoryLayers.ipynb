{
  "cells": [
    {
      "cell_type": "markdown",
      "metadata": {
        "id": "BjYRJfCaA8_Z"
      },
      "source": [
        "# Memory layers experiments\n",
        "\n",
        "This notebook is a casual experimentation playground for memory layers.\n",
        "\n",
        "**Task:** Chess move prediction.\n",
        "\n",
        "**Model:** Transformer, SwiGLU, absolute PE, Adam, fp16.\n",
        "\n",
        "**Representation:** UCI move sequence, as \"half-moves\"\n",
        "\n",
        "e.g. `[\"d2d4\", \"f7f5\", ...]` -> `[\"d2\", \"d4\", \"f7\", \"f5\", ...]`"
      ]
    },
    {
      "cell_type": "markdown",
      "metadata": {
        "id": "zctacxr6EYc7"
      },
      "source": [
        "## Imports"
      ]
    },
    {
      "cell_type": "code",
      "execution_count": 1,
      "metadata": {
        "id": "G5XI8Vs_Q29Y"
      },
      "outputs": [
        {
          "name": "stdout",
          "output_type": "stream",
          "text": [
            "env: WANDB_SILENT=true\n"
          ]
        }
      ],
      "source": [
        "# %pip install chess matplotlib pandas pyarrow seaborn tqdm torch wandb\n",
        "%env WANDB_SILENT=true\n",
        "\n",
        "import chess\n",
        "from collections import OrderedDict\n",
        "import copy\n",
        "from dataclasses import dataclass\n",
        "import itertools\n",
        "import math\n",
        "import matplotlib\n",
        "import matplotlib.pyplot as plt\n",
        "import pandas as pd\n",
        "import pathlib\n",
        "from pathlib import Path\n",
        "import seaborn as sns\n",
        "import sys\n",
        "import time\n",
        "import tqdm\n",
        "import torch\n",
        "from torch import Tensor, nn\n",
        "from typing import Any, Iterable, Literal\n",
        "import unittest.mock\n",
        "import urllib.request\n",
        "import wandb\n",
        "\n",
        "torch.serialization.add_safe_globals([pathlib.PosixPath])\n",
        "\n",
        "class AttrDict(dict):\n",
        "    def __init__(self, *args, **kwargs):\n",
        "        super().__init__(*args, **kwargs)\n",
        "        self.__dict__ = self\n",
        "\n",
        "def _todict(x: Any) -> Any:\n",
        "    if hasattr(x, \"__dict__\"):\n",
        "        return {k: _todict(v) for k, v in x.__dict__.items()}\n",
        "    return x\n",
        "\n",
        "def _toattrdict(x: Any) -> Any:\n",
        "    if isinstance(x, dict):\n",
        "        return AttrDict(**{k: _toattrdict(v) for k, v in x.items()})\n",
        "    return x\n",
        "\n",
        "matplotlib.rcParams.update({\n",
        "    \"axes.spines.right\": False,\n",
        "    \"axes.spines.top\": False,\n",
        "    \"legend.edgecolor\": \"none\",\n",
        "})"
      ]
    },
    {
      "cell_type": "markdown",
      "metadata": {},
      "source": [
        "## Config"
      ]
    },
    {
      "cell_type": "code",
      "execution_count": 2,
      "metadata": {
        "id": "03QSCuEoZSnP"
      },
      "outputs": [],
      "source": [
        "S = AttrDict(\n",
        "    experiment=\"dev\",\n",
        "\n",
        "    # Vocab\n",
        "    vocab_size=8*8 + 2*8*4 + 2,  # moves + promotions + [BOS, PAD]\n",
        "    pad_idx=1,\n",
        "\n",
        "    # Model\n",
        "    layers=4,\n",
        "    d_model=256,\n",
        "    d_ffn=3*256,\n",
        "    d_head=64,\n",
        "    n_head=256//64,\n",
        "\n",
        "    # memory=None,\n",
        "    memory=AttrDict(\n",
        "        d_key=256,\n",
        "        d_value=768,\n",
        "        n_key=128,\n",
        "        topk=32,\n",
        "    ),\n",
        "\n",
        "    # Training\n",
        "    lr=2**-8,\n",
        "    batch_size=64,\n",
        "    steps=16384,\n",
        "    sequence_length=512,\n",
        "    valid_games=256,\n",
        "    valid_interval=256,\n",
        "    losses=dict(unfairness=0.01),\n",
        "\n",
        "    # Execution & logging\n",
        "    device=torch.device(\"cuda\" if torch.cuda.is_available() else \"cpu\"),\n",
        "    dtype=torch.float16 if torch.cuda.is_available() else torch.float32,\n",
        "    compile=None,\n",
        "    wandb=False,\n",
        "    save=None,\n",
        ")"
      ]
    },
    {
      "cell_type": "markdown",
      "metadata": {
        "id": "275eVBNSZV4h"
      },
      "source": [
        "## Data"
      ]
    },
    {
      "cell_type": "code",
      "execution_count": 3,
      "metadata": {},
      "outputs": [],
      "source": [
        "VOCAB = [\"BOS\", \"PAD\"] + [\n",
        "    f\"{col}{row}{promotion}\"\n",
        "    for col in \"abcdefgh\"\n",
        "    for row in range(1, 8+1)\n",
        "    for promotion in [\"\"] + (list(\"bnqr\") if row in [1, 8] else [])\n",
        "]\n",
        "assert len(VOCAB) == S.vocab_size and VOCAB[S.pad_idx] == \"PAD\"\n",
        "\n",
        "def load_games() -> Tensor:\n",
        "    move_to_indices = {\n",
        "        m0 + m1: (i0, i1)\n",
        "        for i0, m0 in enumerate(VOCAB)\n",
        "        for i1, m1 in enumerate(VOCAB)\n",
        "    }\n",
        "    data_path = Path(\"data/chess_games.th\")\n",
        "    if not data_path.exists():\n",
        "        raw_data_path = Path(\"data/chess_game_0001.parquet\")\n",
        "        if not raw_data_path.exists():\n",
        "            raw_data_path.parent.mkdir(parents=True, exist_ok=True)\n",
        "            urllib.request.urlretrieve(\"https://huggingface.co/datasets/laion/strategic_game_chess/resolve/main/chess_game_0001.parquet\", raw_data_path)\n",
        "        print(f\"Loading {raw_data_path}\", file=sys.stderr)\n",
        "        games = pd.read_parquet(raw_data_path, columns=[\"Moves\"])[\"Moves\"]\n",
        "        moves = []\n",
        "        for game in tqdm.tqdm(games, desc=\"Tokenising moves\"):\n",
        "            moves.append(VOCAB.index(\"BOS\"))\n",
        "            for move in game:\n",
        "                moves.extend(move_to_indices[move])\n",
        "        print(f\"Generating {data_path}\", file=sys.stderr)\n",
        "        torch.save(torch.tensor(moves, dtype=torch.uint8), data_path)\n",
        "    return torch.load(data_path)\n",
        "\n",
        "GAMES = load_games()\n",
        "\n",
        "def batches(part: Literal[\"train\", \"valid\"]) -> Iterable[Tensor]:\n",
        "    game_start = torch.where(GAMES == 0)[0]\n",
        "    game_length = torch.cat([game_start[1:], torch.tensor([len(GAMES)])]) - game_start\n",
        "    if part == \"valid\":\n",
        "        game_start, game_length = game_start[:S.valid_games], game_length[:S.valid_games]\n",
        "        idxs = (range(i, i + S.batch_size) for i in range(0, len(game_start), S.batch_size))\n",
        "    elif part == \"train\":\n",
        "        game_start, game_length = game_start[S.valid_games:], game_length[S.valid_games:]\n",
        "        idxs = (torch.randint(0, len(game_start), (S.batch_size,)) for _ in range(S.steps))\n",
        "    game_length = torch.minimum(game_length, torch.tensor(S.sequence_length + 1))\n",
        "    pad = VOCAB.index(\"PAD\")\n",
        "    for idx in idxs:\n",
        "        yield torch.stack([\n",
        "            nn.functional.pad(\n",
        "                GAMES[game_start[i].item():game_start[i].item() + game_length[i].item()],\n",
        "                (0, S.sequence_length + 1 - game_length[i].item()),\n",
        "                value=pad\n",
        "            )\n",
        "            for i in idx\n",
        "        ]).to(device=S.device, dtype=torch.int64)\n",
        "\n",
        "assert next(iter(batches(\"valid\"))).shape == (S.batch_size, S.sequence_length + 1)"
      ]
    },
    {
      "cell_type": "code",
      "execution_count": 15,
      "metadata": {},
      "outputs": [
        {
          "name": "stdout",
          "output_type": "stream",
          "text": [
            "Example games:\n",
            "['d2d4', 'f7f5', 'g2g3', 'g7g6', 'f1g2', 'f8g7', 'g1f3', 'd7d6', 'c2c3', 'e7e6', 'a2a4', 'g8f6', 'd1c2', 'd8e7', 'b1d2', 'e6e5', 'd4e5', 'd6e5', 'e2e4', 'b8c6', 'e1g1', 'f5e4', 'd2e4', 'c8f5', 'f3d2', 'e8c8', 'b2b4', 'g7h6', 'f1e1', 'h6d2', 'c1d2', 'f6e4', 'g2e4', 'e7e6', 'd2g5', 'd8d6', 'a1d1', 'd6d1', 'e1d1', 'h7h6', 'g5e3', 'a7a5', 'c2b1', 'h6h5', 'b4b5', 'c6e7', 'e3g5', 'h8e8', 'h2h4', 'e6c4', 'd1e1', 'f5e4', 'e1e4', 'c4e6', 'g5f4', 'e6f5', 'f4e5', 'e7d5', 'b1e1', 'd5b6', 'f2f4', 'b6d7', 'e1e2', 'b7b6', 'e4e3', 'e8e7', 'e3e4', 'd7c5', 'e4d4', 'e7d7', 'g1g2', 'c8d8', 'g2h2', 'd8c8', 'e2g2', 'c8b8', 'g2a2', 'b8a7', 'a2g2', 'a7b8', 'g2e2', 'b8c8', 'e2f3', 'c8b8', 'f3d1', 'b8c8', 'd1e2', 'c8b8', 'e2d1', 'b8b7', 'd4d7', 'c5d7', 'e5d4', 'd7c5', 'h2g2', 'f5d5', 'g2g1', 'd5f5', 'd4c5', 'f5c5', 'd1d4', 'c5f5', 'd4d2', 'f5b1', 'g1f2', 'b1b3', 'd2d4', 'b3c2', 'f2e3', 'b7c8', 'd4h8', 'c8b7', 'h8d4', 'b7b8', 'd4d8', 'b8b7', 'd8d5', 'b7b8', 'd5g8', 'b8b7', 'g8c4', 'b7b8', 'c4g8', 'b8b7', 'g8d5', 'b7b8', 'd5d8', 'b8b7', 'd8d4', 'b7b8', 'd4d8', 'b8b7', 'd8d3', 'c2a4', 'd3g6', 'a4b5', 'g6e4', 'b7a7', 'f4f5', 'a5a4', 'f5f6', 'a4a3', 'f6f7', 'b5c5', 'e3e2', 'c5b5', 'e2e3', 'b5c5', 'e3d3', 'c5b5', 'd3e3', 'b5c5', 'e3d3', 'c5b5', 'e4c4', 'b5c4', 'd3c4', 'a3a2', 'f7f8q', 'a2a1q', 'f8f3', 'a1b1', 'f3h5', 'b1e4', 'c4b3', 'e4b1', 'b3a3', 'b1c1', 'a3b3', 'c1b1', 'b3c4', 'b1e4', 'c4b3', 'e4b1', 'b3a4', 'b1a2', 'a4b4', 'a2b1', 'b4a4', 'b1c2', 'a4b4', 'c2b1', 'b4a4', 'b1a2', 'a4b4', 'a2b1', 'b4a4', 'b1c2', 'a4b4', 'c2b1', 'b4c4', 'b1e4', 'c4b3', 'e4b1', 'b3c4', 'b1e4', 'c4b3', 'e4b1']\n",
            "['e2e4', 'e7e6', 'd2d4', 'd7d5', 'b1c3', 'f8b4', 'e4e5', 'c7c5', 'd1g4', 'g8e7', 'd4c5', 'b4c3', 'b2c3', 'e8g8', 'g1f3', 'b8d7', 'f1d3', 'f7f5', 'e5f6', 'f8f6', 'g4h5', 'h7h6', 'c1e3', 'e7f5', 'e3d4', 'e6e5', 'f3e5', 'd8e7', 'e1g1', 'd7e5', 'a1e1', 'f6e6', 'h5f5', 'e5d3', 'e1e6', 'c8e6', 'f5d3', 'a8e8', 'h2h3', 'e6d7', 'f1b1', 'd7c6', 'f2f4', 'e7h4', 'd4e5', 'h4e7', 'd3d4', 'a7a6', 'b1f1', 'h6h5', 'f1f3', 'h5h4', 'd4f2', 'c6d7', 'f3d3', 'g7g5', 'f2f3', 'e7f7', 'd3d4', 'e8c8', 'e5d6', 'c8e8', 'd4d5', 'd7f5', 'd6e5', 'g5f4', 'e5f4', 'a6a5', 'g1h2', 'e8e4', 'd5d4', 'e4d4', 'c3d4', 'f5c2', 'f3g4', 'f7g7', 'f4g5', 'c2b1', 'a2a3', 'b1a2', 'g4c8', 'g8h7', 'c8d8', 'h7g6', 'g5h4', 'g6f5', 'h4f2', 'a2c4', 'd8e8', 'g7c7', 'f2g3', 'c7c6', 'e8e5', 'f5g6', 'g3f4', 'a5a4', 'e5g5', 'g6f7', 'g5f5', 'f7e8', 'f4d6', 'e8d8', 'h3h4', 'c6d7', 'f5f6', 'd8c8', 'f6f8', 'd7d8', 'f8f5', 'd8d7', 'f5f8', 'd7d8', 'f8d8', 'c8d8', 'g2g4', 'd8e8', 'h4h5', 'e8f7', 'h2g3', 'f7e6', 'g3f4', 'c4e2', 'f4g5', 'e2f3', 'd6f4', 'e6f7', 'f4d2', 'f7g7', 'g5f4', 'f3e2', 'd4d5', 'e2b5', 'g4g5', 'b5d7', 'g5g6', 'g7h6', 'f4e5', 'h6h5', 'g6g7', 'd7b5', 'g7g8q', 'h5h4', 'e5f4', 'b5e2', 'g8g5', 'h4h3', 'g5g3']\n"
          ]
        }
      ],
      "source": [
        "print(\"Example games:\")\n",
        "def test():\n",
        "    for game in next(iter(batches(\"valid\")))[:2]:\n",
        "        print([VOCAB[m[0]] + VOCAB[m[1]] for m in game[1:].view(-1, 2) if m[0] != S.pad_idx])\n",
        "test()"
      ]
    },
    {
      "cell_type": "code",
      "execution_count": 5,
      "metadata": {},
      "outputs": [
        {
          "data": {
            "image/png": "[encoded data removed]",
            "text/plain": [
              "<Figure size 640x480 with 1 Axes>"
            ]
          },
          "metadata": {},
          "output_type": "display_data"
        }
      ],
      "source": [
        "with plt.ion():\n",
        "    _, ax = plt.subplots()\n",
        "    ax.hist(torch.cat([(b != S.pad_idx).sum(-1) for b in batches(\"valid\")]).cpu(), bins=10)\n",
        "    ax.set_xlabel(\"Game length (half-moves)\")\n",
        "    ax.set_ylabel(\"Count\")\n"
      ]
    },
    {
      "cell_type": "markdown",
      "metadata": {
        "id": "E4Y49583Z8yn"
      },
      "source": [
        "## Model"
      ]
    },
    {
      "cell_type": "code",
      "execution_count": 14,
      "metadata": {},
      "outputs": [
        {
          "name": "stdout",
          "output_type": "stream",
          "text": [
            "tensor(1.0190, grad_fn=<StdBackward0>)\n",
            "{'unfairness': tensor(0.0450, grad_fn=<AddBackward0>)}\n",
            "{'index_unfairness': tensor(0.1314)}\n"
          ]
        }
      ],
      "source": [
        "class Linear(nn.Module):\n",
        "    def __init__(self, in_features: int, out_features: int):\n",
        "        super().__init__()\n",
        "        scale = (in_features * out_features) ** (-1/4)\n",
        "        self.weight = nn.Parameter(torch.randn(out_features, in_features) * scale)\n",
        "\n",
        "    def forward(self, x: Tensor) -> Tensor:\n",
        "        return x @ self.weight.T\n",
        "\n",
        "\n",
        "def entropy_unfairness(indices: Tensor, n_key: int) -> Tensor:\n",
        "    prob = torch.bincount(indices.flatten(), minlength=n_key).div(indices.nelement())\n",
        "    return prob.mul(prob.log().nan_to_num_(0)).sum().div(torch.tensor(n_key).log()).add(1)\n",
        "\n",
        "\n",
        "def entropy_unfairness_loss(gate: Tensor) -> Tensor:\n",
        "    prob = gate.softmax(-1).flatten(end_dim=-2).mean(0)\n",
        "    return prob.mul(prob.log().nan_to_num_(0)).sum().div(torch.tensor(gate.shape[-1]).log()).add(1)\n",
        "\n",
        "\n",
        "class ProductKeyMemoryLayer(nn.Module):\n",
        "    def __init__(self, s: AttrDict):\n",
        "        super().__init__()\n",
        "        self.topk = s.memory.topk\n",
        "        self.n_key = s.memory.n_key\n",
        "        self.norm = nn.RMSNorm(s.d_model)\n",
        "        self.key0 = Linear(s.memory.d_key, s.memory.n_key)\n",
        "        self.key1 = Linear(s.memory.d_key, s.memory.n_key)\n",
        "        self.query = nn.Sequential(Linear(s.d_model, s.d_model), nn.ReLU(), Linear(s.d_model, s.memory.d_key))\n",
        "        self.values = nn.Parameter(torch.randn(s.memory.n_key**2, s.memory.d_value))\n",
        "        self.gate = Linear(s.d_model, s.memory.d_value)\n",
        "        self.down = Linear(s.memory.d_value, s.d_model)\n",
        "        self._last_idx, self._unfairness, self._unfairness_loss = None, None, None\n",
        "\n",
        "    def layer_losses(self) -> dict[str, Tensor]:\n",
        "        return dict(unfairness=self._unfairness_loss)\n",
        "\n",
        "    def layer_metrics(self) -> dict[str, Tensor]:\n",
        "        return dict(index_unfairness=self._unfairness)\n",
        "\n",
        "    def forward(self, x: Tensor) -> Tensor:\n",
        "        z = self.norm(x)\n",
        "\n",
        "        # Sub key top-k\n",
        "        query = self.query(z)\n",
        "        s0 = self.key0(query)\n",
        "        s1 = self.key1(query)\n",
        "        tk0 = s0.topk(k=self.topk, dim=-1)\n",
        "        tk1 = s1.topk(k=self.topk, dim=-1)\n",
        "\n",
        "        # Product key top-k\n",
        "        product_scores = (tk0.values.unsqueeze(-2) + tk1.values.unsqueeze(-1)).flatten(-2)\n",
        "        product_idx = (tk0.indices.unsqueeze(-2) + self.n_key * tk1.indices.unsqueeze(-1)).flatten(-2)\n",
        "        tkp = product_scores.topk(k=self.topk, dim=-1)\n",
        "\n",
        "        # Lookup & combine\n",
        "        weights = torch.softmax(product_scores.gather(-1, tkp.indices), dim=-1)\n",
        "        values = self.values[product_idx.gather(-1, tkp.indices)]\n",
        "        mix = (weights.unsqueeze(-1) * values).sum(-2)\n",
        "\n",
        "        # Memory+ wrapper\n",
        "        y = x + self.down(nn.functional.silu(self.gate(z)) * mix)\n",
        "\n",
        "        self._last_idx = product_idx.gather(-1, tkp.indices)\n",
        "        self._unfairness = entropy_unfairness(tk0.indices, self.n_key) + entropy_unfairness(tk1.indices, self.n_key)\n",
        "        self._unfairness_loss = entropy_unfairness_loss(s0) + entropy_unfairness_loss(s1)\n",
        "        return y\n",
        "\n",
        "\n",
        "def test():\n",
        "    layer = ProductKeyMemoryLayer(S)\n",
        "    print(layer(torch.randn(5, 7, S.d_model)).std())\n",
        "    print(layer.layer_losses())\n",
        "    print(layer.layer_metrics())\n",
        "test()"
      ]
    },
    {
      "cell_type": "code",
      "execution_count": 7,
      "metadata": {
        "colab": {
          "base_uri": "https://localhost:8080/"
        },
        "id": "hsbTq0EE4fgk",
        "outputId": "e9102aeb-7104-4ec7-b75d-50fc8b175d41"
      },
      "outputs": [
        {
          "data": {
            "text/plain": [
              "{'loss': tensor(5.0185, device='cuda:0', grad_fn=<AddBackward0>),\n",
              " 'xent': tensor(5.0180, device='cuda:0', grad_fn=<NllLossBackward0>),\n",
              " 'unfairness': tensor(0.0509, device='cuda:0', grad_fn=<DivBackward0>)}"
            ]
          },
          "metadata": {},
          "output_type": "display_data"
        },
        {
          "data": {
            "text/plain": [
              "{'loss': tensor(5.0185, device='cuda:0', grad_fn=<AddBackward0>),\n",
              " 'xent': tensor(5.0180, device='cuda:0', grad_fn=<NllLossBackward0>),\n",
              " 'unfairness': tensor(0.0509, device='cuda:0', grad_fn=<DivBackward0>),\n",
              " 'error_rate': tensor(1., device='cuda:0'),\n",
              " 'index_unfairness': tensor(0.1317, device='cuda:0')}"
            ]
          },
          "metadata": {},
          "output_type": "display_data"
        }
      ],
      "source": [
        "def aggregate_metrics(values: Iterable[dict[str, Tensor]]) -> dict[str, Tensor]:\n",
        "    metrics, counts = {}, {}\n",
        "    for x in values:\n",
        "        for k, v in x.items():\n",
        "            if k in metrics:\n",
        "                metrics[k].add_(v)\n",
        "                counts[k].add_(1)\n",
        "            else:\n",
        "                metrics[k] = v.to(torch.float32, copy=True)\n",
        "                counts[k] = torch.ones((), device=v.device, dtype=torch.int64)\n",
        "    return {k: v.div_(counts[k]) for k, v in metrics.items()}\n",
        "\n",
        "\n",
        "class FFN(nn.Module):\n",
        "    def __init__(self, s: AttrDict):\n",
        "        super().__init__()\n",
        "        self.norm = nn.RMSNorm(s.d_model)\n",
        "        self.up = Linear(s.d_model, s.d_ffn)\n",
        "        self.gate = Linear(s.d_model, s.d_ffn)\n",
        "        self.down = Linear(s.d_ffn, s.d_model)\n",
        "\n",
        "    def forward(self, x: Tensor) -> Tensor:\n",
        "        z = self.norm(x)\n",
        "        return x + self.down(nn.functional.silu(self.gate(z)) * self.up(z))\n",
        "\n",
        "\n",
        "class Attn(nn.Module):\n",
        "    def __init__(self, s: AttrDict):\n",
        "        super().__init__()\n",
        "        self.s = s\n",
        "        self.norm = nn.RMSNorm(s.d_model)\n",
        "        self.q, self.k, self.v = (Linear(s.d_model, s.n_head * s.d_head) for _ in range(3))\n",
        "        self.o = Linear(s.n_head * s.d_head, s.d_model)\n",
        "\n",
        "    def forward(self, x: Tensor, kv_cache: Tensor | None) -> Tensor:\n",
        "        z = self.norm(x)\n",
        "        q, k, v = (m(z).unflatten(-1, (self.s.n_head, self.s.d_head)).movedim(-2, 1) for m in [self.q, self.k, self.v])\n",
        "        if kv_cache is not None:\n",
        "            k_cache, v_cache = kv_cache\n",
        "            k_cache[..., -k.shape[-2]:, :], v_cache[..., -v.shape[-2]:, :] = k.detach(), v.detach()\n",
        "            k, v = k_cache, v_cache\n",
        "        mask = torch.tril(torch.ones((q.shape[-2], k.shape[-2]), dtype=torch.bool, device=q.device), diagonal=k.shape[-2] - q.shape[-2])\n",
        "        mix = nn.functional.scaled_dot_product_attention(q, k, v, attn_mask=mask)\n",
        "        return x + self.o(mix.movedim(1, -2).flatten(-2))\n",
        "\n",
        "\n",
        "class PositionalEmbedding(nn.Module):\n",
        "    def __init__(self, s: AttrDict):\n",
        "        super().__init__()\n",
        "        self.weight = nn.Parameter(torch.randn(s.sequence_length, s.d_model))\n",
        "\n",
        "    def forward(self, x: Tensor, offset: int) -> Tensor:\n",
        "        return x + self.weight[offset:offset + x.shape[1]]\n",
        "\n",
        "\n",
        "class Transformer(nn.Sequential):\n",
        "    def __init__(self, s: AttrDict):\n",
        "        self.s = _toattrdict(copy.deepcopy(s))\n",
        "        super().__init__(OrderedDict([\n",
        "            (\"embed\", nn.Embedding(s.vocab_size, s.d_model)),\n",
        "            (\"embed_pos\", PositionalEmbedding(s)),\n",
        "            (\"trunk\", nn.Sequential(*[\n",
        "                nn.Sequential(OrderedDict([\n",
        "                    (\"attn\", Attn(s)),\n",
        "                    (\"ffn\", FFN(s) if s.memory is None or n != (s.layers//2) else ProductKeyMemoryLayer(s)),\n",
        "                ]))\n",
        "                for n in range(s.layers)\n",
        "            ])),\n",
        "            (\"norm\", nn.RMSNorm(s.d_model)),\n",
        "            (\"predict\", nn.Linear(s.d_model, s.vocab_size)),\n",
        "        ]))\n",
        "\n",
        "    def forward(self, ids: Tensor, kv_cache: Tensor | None = None) -> Tensor:\n",
        "        hidden = self.embed(ids)\n",
        "        hidden = self.embed_pos(hidden, offset=0 if kv_cache is None else kv_cache.shape[-2] - ids.shape[1])\n",
        "        for n, layer in enumerate(self.trunk):\n",
        "            hidden = layer.attn(hidden, kv_cache=None if kv_cache is None else kv_cache[n])\n",
        "            hidden = layer.ffn(hidden)\n",
        "        hidden = self.norm(hidden)\n",
        "        return self.predict(hidden)\n",
        "\n",
        "    def _losses(self, ids: Tensor, logits: Tensor) -> Tensor:\n",
        "        xent = nn.functional.cross_entropy(\n",
        "            logits.flatten(end_dim=-2), ids.flatten(),\n",
        "            ignore_index=self.s.pad_idx,\n",
        "            reduction=\"mean\",\n",
        "        )\n",
        "        other = aggregate_metrics(m.layer_losses() for m in self.modules() if hasattr(m, \"layer_losses\"))\n",
        "        return dict(\n",
        "            loss=xent + sum(v * self.s.losses[k] for k, v in other.items()),\n",
        "            xent=xent,\n",
        "            **other,\n",
        "        )\n",
        "\n",
        "    def _error_rate(self, ids: Tensor, logits: Tensor) -> Tensor:\n",
        "        # Moves come in pairs, so use .any(-1) to measure the whole-move error rate\n",
        "        errors = (logits.argmax(-1) != ids).view(-1, 2).any(-1).float()\n",
        "        mask = (ids != self.s.pad_idx).view(-1, 2).any(-1).float()\n",
        "        return (errors * mask).sum() / mask.sum()\n",
        "\n",
        "    def losses(self, ids: Tensor) -> dict[str, Tensor]:\n",
        "        return self._losses(ids[:, 1:], self(ids[:, :-1]).float())\n",
        "\n",
        "    def metrics(self, ids: Tensor) -> dict[str, Tensor]:\n",
        "        logits = self(ids[:, :-1]).float()\n",
        "        return dict(\n",
        "            **self._losses(ids[:, 1:], logits),\n",
        "            error_rate=self._error_rate(ids[:, 1:], logits),\n",
        "            **aggregate_metrics(m.layer_metrics() for m in self.modules() if hasattr(m, \"layer_metrics\")),\n",
        "        )\n",
        "\n",
        "    def create_kv_cache(self, batch_size: int) -> Tensor:\n",
        "        device, = set(p.device for p in self.parameters())\n",
        "        dtype, = set(p.dtype for p in self.parameters())\n",
        "        return torch.full(\n",
        "            (self.s.layers, 2, batch_size, self.s.n_head, self.s.sequence_length, self.s.d_head),\n",
        "            torch.nan,\n",
        "            device=device,\n",
        "            dtype=dtype,\n",
        "        )\n",
        "\n",
        "    # Persistence\n",
        "\n",
        "    def save(self, path: Path | str) -> None:\n",
        "        Path(path).parent.mkdir(parents=True, exist_ok=True)\n",
        "        data = dict(s=_todict(self.s), params=self.state_dict(), log=getattr(self, \"log\", None))\n",
        "        torch.save(data, path)\n",
        "\n",
        "    @classmethod\n",
        "    def load(cls, path: Path) -> \"Transformer\":\n",
        "        data = torch.load(path)\n",
        "        model = cls(_toattrdict(data[\"s\"]))\n",
        "        model.load_state_dict(data[\"params\"])\n",
        "        if data[\"log\"]:\n",
        "            model.log = data[\"log\"]\n",
        "        return model\n",
        "\n",
        "\n",
        "def test():\n",
        "    model = Transformer(S).to(S.device, S.dtype)\n",
        "    display(model.losses(next(batches(\"valid\"))))\n",
        "    display(model.metrics(next(batches(\"valid\"))))\n",
        "test()"
      ]
    },
    {
      "cell_type": "markdown",
      "metadata": {
        "id": "qFCUBwPjAnvE"
      },
      "source": [
        "## Training"
      ]
    },
    {
      "cell_type": "code",
      "execution_count": 11,
      "metadata": {},
      "outputs": [],
      "source": [
        "def run_experiment(**config: Any) -> None:\n",
        "    with unittest.mock.patch.dict(S, config):\n",
        "        t0 = time.time()\n",
        "        if S.wandb:\n",
        "            wandb.init(project=\"memory-layers-demo\", config=_todict(S), reinit=True)\n",
        "        try:\n",
        "            model = Transformer(S).to(S.device, S.dtype)\n",
        "            if S.wandb:\n",
        "                wandb.summary[\"n_params\"] = sum(p.numel() for p in model.parameters())\n",
        "            model.log = []\n",
        "\n",
        "            opt = torch.optim.Adam(model.parameters(), lr=torch.tensor(S.lr, device=S.device), eps=1e-5)\n",
        "            schedule = torch.optim.lr_scheduler.LambdaLR(opt, lambda n: .5*(math.cos(math.pi*n/S.steps)+1))\n",
        "            grad_scale = S.batch_size * S.sequence_length\n",
        "            def step_train(batch: Tensor) -> dict[str, Tensor]:\n",
        "                opt.zero_grad()\n",
        "                losses = model.losses(batch)\n",
        "                losses[\"loss\"].backward(torch.full_like(losses[\"loss\"], grad_scale))\n",
        "                opt.step()\n",
        "                schedule.step()\n",
        "                return losses\n",
        "            step_valid = model.metrics\n",
        "            if S.compile:\n",
        "                torch.compiler.reset()\n",
        "                step_train = torch.compile(step_train, mode=S.compile)\n",
        "                step_valid = torch.compile(step_valid, mode=S.compile)\n",
        "\n",
        "            progress = tqdm.tqdm(enumerate(batches(\"train\")), total=S.steps)\n",
        "            for step, batch in progress:\n",
        "                losses = {k: v.clone() for k, v in step_train(batch).items()}\n",
        "                model.log.append(dict(step=step, **{k: v.item() for k, v in losses.items()}, lr=schedule.get_last_lr()[0].item()))\n",
        "                if step % S.valid_interval == 0 or step == S.steps - 1:\n",
        "                    with torch.no_grad():\n",
        "                        model.train(False)\n",
        "                        metrics = aggregate_metrics(step_valid(batch) for batch in batches(\"valid\"))\n",
        "                        for k, v in metrics.items():\n",
        "                            model.log[-1][f\"valid_{k}\"] = v.item()\n",
        "                        model.train(True)\n",
        "                if S.wandb:\n",
        "                    wandb.log(model.log[-1])\n",
        "                progress.set_postfix(loss=f\"{losses['loss'].item():.3f}\")\n",
        "        finally:\n",
        "            if S.save:\n",
        "                model.save(S.save)\n",
        "            if S.wandb:\n",
        "                wandb.summary[\"duration\"] = time.time() - t0\n",
        "                wandb.finish()\n",
        "\n",
        "\n",
        "def run_sweep(*axes: list[dict[str, Any]]) -> None:\n",
        "    for ds in itertools.product(*axes):\n",
        "        config = {k: v for d in ds for k, v in d.items()}\n",
        "        print(config, file=sys.stderr)\n",
        "        run_experiment(**config)"
      ]
    },
    {
      "cell_type": "code",
      "execution_count": 12,
      "metadata": {
        "colab": {
          "base_uri": "https://localhost:8080/"
        },
        "id": "c9WlCRXA6Enf",
        "outputId": "e5bcebad-986b-4ea8-a903-e8a79dd10cff"
      },
      "outputs": [],
      "source": [
        "# run_sweep(\n",
        "#     [dict(experiment=\"baseline-sweep-v0\", wandb=True, memory=None, compile=\"max-autotune\")],\n",
        "#     [\n",
        "#         dict(layers=2, d_model=128, d_ffn=3*128, d_head=64, n_head=128//64),\n",
        "#         dict(layers=4, d_model=256, d_ffn=3*256, d_head=64, n_head=256//64),\n",
        "#         dict(layers=8, d_model=512, d_ffn=3*512, d_head=64, n_head=512//64),\n",
        "#     ],\n",
        "#     [\n",
        "#         dict(batch_size=64, steps=4096),\n",
        "#         dict(batch_size=64, steps=16384),\n",
        "#         dict(batch_size=256, steps=4096),\n",
        "#     ],\n",
        "#     [dict(lr=2**n) for n in [-10, -9, -8, -7]],\n",
        "# )\n",
        "# run_sweep(\n",
        "#     [dict(experiment=\"memory-sweep-v0\", wandb=True, compile=\"max-autotune\", steps=16384)],\n",
        "#     [\n",
        "#         dict(layers=4, d_model=256, d_ffn=3*256, d_head=64, n_head=256//64),\n",
        "#     ],\n",
        "#     [\n",
        "#         dict(memory=AttrDict(d_key=256, d_value=768, n_key=64, topk=16)),\n",
        "#         dict(memory=AttrDict(d_key=256, d_value=768, n_key=64, topk=32)),\n",
        "#         dict(memory=AttrDict(d_key=256, d_value=256, n_key=128, topk=32)),\n",
        "#         dict(memory=AttrDict(d_key=256, d_value=768, n_key=128, topk=32)),\n",
        "#     ],\n",
        "#     [\n",
        "#         dict(losses=dict(unfairness=0.0)),\n",
        "#         dict(losses=dict(unfairness=0.01)),\n",
        "#         dict(losses=dict(unfairness=0.1)),\n",
        "#         dict(losses=dict(unfairness=1.0)),\n",
        "#     ],\n",
        "#     [dict(lr=2**n) for n in [-10, -9, -8, -7]],\n",
        "# )\n",
        "# run_sweep(\n",
        "#     [dict(experiment=\"memory-sweep-v1\", wandb=True, compile=\"max-autotune\")],\n",
        "#     [dict(lr=2**n) for n in [-10, -9, -8, -7]],\n",
        "# )"
      ]
    },
    {
      "cell_type": "code",
      "execution_count": null,
      "metadata": {},
      "outputs": [],
      "source": [
        "# config_large = dict(\n",
        "#     layers=8,\n",
        "#     d_model=512,\n",
        "#     d_ffn=3*512,\n",
        "#     d_head=64,\n",
        "#     n_head=512//64,\n",
        "#     lr=2**-9,\n",
        "# )\n",
        "# run_experiment(compile=\"max-autotune\", **config_large, memory=None, save=\"data/models_large/baseline.th\")\n",
        "# run_experiment(compile=\"max-autotune\", **config_large, save=\"data/models_large/memory.th\")"
      ]
    },
    {
      "cell_type": "code",
      "execution_count": 8,
      "metadata": {},
      "outputs": [
        {
          "data": {
            "image/png": "[encoded data removed]",
            "text/plain": [
              "<Figure size 640x480 with 1 Axes>"
            ]
          },
          "metadata": {},
          "output_type": "display_data"
        }
      ],
      "source": [
        "baseline = Transformer.load(Path(\"data/models_large/baseline.th\")).to(S.device, S.dtype)\n",
        "memory_model = Transformer.load(Path(\"data/models_large/memory.th\")).to(S.device, S.dtype)\n",
        "with plt.ion():\n",
        "    _, ax = plt.subplots()\n",
        "    pd.DataFrame.from_records(baseline.log).dropna(subset=\"valid_error_rate\").plot(y=\"valid_error_rate\", x=\"step\", ax=ax, label=\"baseline\")\n",
        "    pd.DataFrame.from_records(memory_model.log).dropna(subset=\"valid_error_rate\").plot(y=\"valid_error_rate\", x=\"step\", ax=ax, label=\"memory\")\n",
        "    ax.set_ylabel(\"Validation error rate\");"
      ]
    },
    {
      "cell_type": "markdown",
      "metadata": {},
      "source": [
        "## Inference"
      ]
    },
    {
      "cell_type": "code",
      "execution_count": 12,
      "metadata": {},
      "outputs": [],
      "source": [
        "class Player:\n",
        "    def __init__(self, model: Transformer, temperature: float = 1.0):\n",
        "        self.model = model\n",
        "        self.cache = model.create_kv_cache(1)\n",
        "        self.cache_tokens = []\n",
        "        self.temperature = temperature\n",
        "\n",
        "    def __call__(self, board: chess.Board) -> str:\n",
        "        tokens = [VOCAB.index(\"BOS\")] + [VOCAB.index(h) for move in [m.uci() for m in board.move_stack] for h in (move[:2], move[2:])]\n",
        "        # Note: don't consume all the tokens in the cache, or we can't re-generate logits\n",
        "        cache_hit = min((n for n, (t0, t1) in enumerate(zip(self.cache_tokens, tokens)) if t0 != t1),\n",
        "                        default=min(len(self.cache_tokens), len(tokens) - 1))\n",
        "        sequence_length = len(tokens)\n",
        "        tokens = tokens[cache_hit:]\n",
        "        generated_tokens = []\n",
        "        with torch.no_grad():\n",
        "            for _ in range(2):\n",
        "                # Generate\n",
        "                logits = self.model(\n",
        "                    torch.tensor([tokens], dtype=torch.int64, device=self.model.s.device),\n",
        "                    kv_cache=self.cache[..., :sequence_length, :]\n",
        "                )[0, -1].float()\n",
        "                self.cache_tokens.extend(tokens)\n",
        "                # Sample\n",
        "                next_token = (logits + torch.rand_like(logits).log_().neg_().log_().neg_().mul_(self.temperature)).argmax(-1).item()\n",
        "                tokens = [next_token]\n",
        "                generated_tokens.append(next_token)\n",
        "                sequence_length += 1\n",
        "\n",
        "        return \"\".join(VOCAB[t] for t in generated_tokens)\n",
        "\n",
        "\n",
        "def make_move(player: Player, board: chess.Board, max_retries: int = 25) -> None:\n",
        "    for _ in range(max_retries):\n",
        "        try:\n",
        "            board.push_uci(player(board))\n",
        "            return\n",
        "        except (chess.IllegalMoveError, chess.InvalidMoveError):\n",
        "            pass\n",
        "    raise chess.IllegalMoveError(f\"Model could not make a valid move after {max_retries} retries\")\n",
        "\n",
        "\n",
        "class MemoryPlot:\n",
        "    def __init__(self, layer: ProductKeyMemoryLayer, decay: float, player: Player, title: str):\n",
        "        n_key = layer.key0.weight.shape[0]\n",
        "        self.layer = layer\n",
        "        self.decay = decay\n",
        "        self.player = player\n",
        "        self.title = title\n",
        "        self.memory = torch.zeros((n_key, n_key))\n",
        "        self._imdata = None\n",
        "\n",
        "    def update(self, ax: matplotlib.axes.Axes) -> None:\n",
        "        self.memory *= self.decay\n",
        "        self.memory.view(-1)[self.layer._last_idx[0, -1]] = 1\n",
        "        if self._imdata is None:\n",
        "            self._imdata = ax.imshow(self.memory, cmap=\"flare_r\")\n",
        "            ax.axis(\"off\")\n",
        "            ax.set_title(self.title)\n",
        "            ax.set_aspect(\"equal\")\n",
        "        else:\n",
        "            self._imdata.set_data(self.memory)\n",
        "\n",
        "\n",
        "@dataclass\n",
        "class Result:\n",
        "    winner: Literal[\"white\", \"black\", \"stalemate\"]\n",
        "    reason: str  # chess.Termination | \"FORFEIT\" | \"TOO_LONG\"\n",
        "    board: chess.Board\n",
        "\n",
        "\n",
        "def play(white: Player, black: Player, animate: float = 0, decay: float = 0.8) -> Result:\n",
        "    board = chess.Board()\n",
        "    with plt.ioff():\n",
        "        if animate:\n",
        "            board_handle = display(board, display_id=True)\n",
        "            memory_plots = []\n",
        "            for label, player in [(\"white\", white), (\"black\", black)]:\n",
        "                for m in player.model.modules():\n",
        "                    if isinstance(m, ProductKeyMemoryLayer):\n",
        "                        memory_plots.append(MemoryPlot(m, decay, player, label))\n",
        "            if memory_plots:\n",
        "                memory_fig, memory_axs = plt.subplots(ncols=len(memory_plots), figsize=(4 * len(memory_plots), 4), squeeze=False)\n",
        "                plt.close(memory_fig)\n",
        "                memory_handle = display(None, display_id=True)\n",
        "\n",
        "        t0 = time.time()\n",
        "        for i in range(min(white.model.s.sequence_length, black.model.s.sequence_length) // 2):\n",
        "            try:\n",
        "                player = white if i % 2 == 0 else black\n",
        "                make_move(player, board)\n",
        "                if animate:\n",
        "                    board_handle.update(board)\n",
        "                    if memory_plots and i >= 1:\n",
        "                        for plot, ax in zip(memory_plots, memory_axs.flatten()):\n",
        "                            if plot.player is player:\n",
        "                                plot.update(ax)\n",
        "                        memory_fig.canvas.draw()\n",
        "                        memory_handle.update(memory_fig)\n",
        "                    time.sleep(max(1e-3, t0 + animate - time.time()))\n",
        "                    t0 = time.time()\n",
        "\n",
        "            except chess.IllegalMoveError:\n",
        "                return Result(\"black\" if i % 2 == 0 else \"white\", reason=\"FORFEIT\", board=board)\n",
        "            if outcome := board.outcome():\n",
        "                return Result(\n",
        "                    {chess.WHITE: \"white\", chess.BLACK: \"black\", None: \"stalemate\"}[outcome.winner],\n",
        "                    reason=outcome.termination.name,\n",
        "                    board=board,\n",
        "                )\n",
        "        return Result(\"stalemate\", reason=\"TOO_LONG\", board=board)"
      ]
    },
    {
      "cell_type": "code",
      "execution_count": 13,
      "metadata": {},
      "outputs": [
        {
          "data": {
            "image/svg+xml": [
              "<svg xmlns=\"http://www.w3.org/2000/svg\" xmlns:xlink=\"http://www.w3.org/1999/xlink\" viewBox=\"0 0 390 390\" width=\"390\" height=\"390\"><desc><pre>. . . . . . . .\n",
              "p . . k . . . q\n",
              ". p R . . . . .\n",
              ". . . . . . . .\n",
              ". . . p . . . .\n",
              ". . . P . . . .\n",
              "P P P . . . . .\n",
              ". R . K . . . .</pre></desc><defs><g id=\"white-pawn\" class=\"white pawn\"><path d=\"M22.5 9c-2.21 0-4 1.79-4 4 0 .89.29 1.71.78 2.38C17.33 16.5 16 18.59 16 21c0 2.03.94 3.84 2.41 5.03-3 1.06-7.41 5.55-7.41 13.47h23c0-7.92-4.41-12.41-7.41-13.47 1.47-1.19 2.41-3 2.41-5.03 0-2.41-1.33-4.5-3.28-5.62.49-.67.78-1.49.78-2.38 0-2.21-1.79-4-4-4z\" fill=\"#fff\" stroke=\"#000\" stroke-width=\"1.5\" stroke-linecap=\"round\" /></g><g id=\"white-rook\" class=\"white rook\" fill=\"#fff\" fill-rule=\"evenodd\" stroke=\"#000\" stroke-width=\"1.5\" stroke-linecap=\"round\" stroke-linejoin=\"round\"><path d=\"M9 39h27v-3H9v3zM12 36v-4h21v4H12zM11 14V9h4v2h5V9h5v2h5V9h4v5\" stroke-linecap=\"butt\" /><path d=\"M34 14l-3 3H14l-3-3\" /><path d=\"M31 17v12.5H14V17\" stroke-linecap=\"butt\" stroke-linejoin=\"miter\" /><path d=\"M31 29.5l1.5 2.5h-20l1.5-2.5\" /><path d=\"M11 14h23\" fill=\"none\" stroke-linejoin=\"miter\" /></g><g id=\"white-king\" class=\"white king\" fill=\"none\" fill-rule=\"evenodd\" stroke=\"#000\" stroke-width=\"1.5\" stroke-linecap=\"round\" stroke-linejoin=\"round\"><path d=\"M22.5 11.63V6M20 8h5\" stroke-linejoin=\"miter\" /><path d=\"M22.5 25s4.5-7.5 3-10.5c0 0-1-2.5-3-2.5s-3 2.5-3 2.5c-1.5 3 3 10.5 3 10.5\" fill=\"#fff\" stroke-linecap=\"butt\" stroke-linejoin=\"miter\" /><path d=\"M11.5 37c5.5 3.5 15.5 3.5 21 0v-7s9-4.5 6-10.5c-4-6.5-13.5-3.5-16 4V27v-3.5c-3.5-7.5-13-10.5-16-4-3 6 5 10 5 10V37z\" fill=\"#fff\" /><path d=\"M11.5 30c5.5-3 15.5-3 21 0m-21 3.5c5.5-3 15.5-3 21 0m-21 3.5c5.5-3 15.5-3 21 0\" /></g><g id=\"black-pawn\" class=\"black pawn\"><path d=\"M22.5 9c-2.21 0-4 1.79-4 4 0 .89.29 1.71.78 2.38C17.33 16.5 16 18.59 16 21c0 2.03.94 3.84 2.41 5.03-3 1.06-7.41 5.55-7.41 13.47h23c0-7.92-4.41-12.41-7.41-13.47 1.47-1.19 2.41-3 2.41-5.03 0-2.41-1.33-4.5-3.28-5.62.49-.67.78-1.49.78-2.38 0-2.21-1.79-4-4-4z\" fill=\"#000\" stroke=\"#000\" stroke-width=\"1.5\" stroke-linecap=\"round\" /></g><g id=\"black-queen\" class=\"black queen\" fill=\"#000\" fill-rule=\"evenodd\" stroke=\"#000\" stroke-width=\"1.5\" stroke-linecap=\"round\" stroke-linejoin=\"round\"><g fill=\"#000\" stroke=\"none\"><circle cx=\"6\" cy=\"12\" r=\"2.75\" /><circle cx=\"14\" cy=\"9\" r=\"2.75\" /><circle cx=\"22.5\" cy=\"8\" r=\"2.75\" /><circle cx=\"31\" cy=\"9\" r=\"2.75\" /><circle cx=\"39\" cy=\"12\" r=\"2.75\" /></g><path d=\"M9 26c8.5-1.5 21-1.5 27 0l2.5-12.5L31 25l-.3-14.1-5.2 13.6-3-14.5-3 14.5-5.2-13.6L14 25 6.5 13.5 9 26zM9 26c0 2 1.5 2 2.5 4 1 1.5 1 1 .5 3.5-1.5 1-1.5 2.5-1.5 2.5-1.5 1.5.5 2.5.5 2.5 6.5 1 16.5 1 23 0 0 0 1.5-1 0-2.5 0 0 .5-1.5-1-2.5-.5-2.5-.5-2 .5-3.5 1-2 2.5-2 2.5-4-8.5-1.5-18.5-1.5-27 0z\" stroke-linecap=\"butt\" /><path d=\"M11 38.5a35 35 1 0 0 23 0\" fill=\"none\" stroke-linecap=\"butt\" /><path d=\"M11 29a35 35 1 0 1 23 0M12.5 31.5h20M11.5 34.5a35 35 1 0 0 22 0M10.5 37.5a35 35 1 0 0 24 0\" fill=\"none\" stroke=\"#fff\" /></g><g id=\"black-king\" class=\"black king\" fill=\"none\" fill-rule=\"evenodd\" stroke=\"#000\" stroke-width=\"1.5\" stroke-linecap=\"round\" stroke-linejoin=\"round\"><path d=\"M22.5 11.63V6\" stroke-linejoin=\"miter\" /><path d=\"M22.5 25s4.5-7.5 3-10.5c0 0-1-2.5-3-2.5s-3 2.5-3 2.5c-1.5 3 3 10.5 3 10.5\" fill=\"#000\" stroke-linecap=\"butt\" stroke-linejoin=\"miter\" /><path d=\"M11.5 37c5.5 3.5 15.5 3.5 21 0v-7s9-4.5 6-10.5c-4-6.5-13.5-3.5-16 4V27v-3.5c-3.5-7.5-13-10.5-16-4-3 6 5 10 5 10V37z\" fill=\"#000\" /><path d=\"M20 8h5\" stroke-linejoin=\"miter\" /><path d=\"M32 29.5s8.5-4 6.03-9.65C34.15 14 25 18 22.5 24.5l.01 2.1-.01-2.1C20 18 9.906 14 6.997 19.85c-2.497 5.65 4.853 9 4.853 9M11.5 30c5.5-3 15.5-3 21 0m-21 3.5c5.5-3 15.5-3 21 0m-21 3.5c5.5-3 15.5-3 21 0\" stroke=\"#fff\" /></g></defs><rect x=\"7.5\" y=\"7.5\" width=\"375\" height=\"375\" fill=\"none\" stroke=\"#212121\" stroke-width=\"15\" /><g transform=\"translate(20, 1) scale(0.75, 0.75)\" fill=\"#e5e5e5\" stroke=\"#e5e5e5\"><path d=\"M23.328 10.016q-1.742 0-2.414.398-.672.398-.672 1.36 0 .765.5 1.218.508.445 1.375.445 1.196 0 1.914-.843.727-.852.727-2.258v-.32zm2.867-.594v4.992h-1.437v-1.328q-.492.797-1.227 1.18-.734.375-1.797.375-1.343 0-2.14-.75-.79-.758-.79-2.024 0-1.476.985-2.226.992-.75 2.953-.75h2.016V8.75q0-.992-.656-1.531-.649-.547-1.829-.547-.75 0-1.46.18-.711.18-1.368.539V6.062q.79-.304 1.532-.453.742-.156 1.445-.156 1.898 0 2.836.984.937.985.937 2.985z\" /></g><g transform=\"translate(20, 375) scale(0.75, 0.75)\" fill=\"#e5e5e5\" stroke=\"#e5e5e5\"><path d=\"M23.328 10.016q-1.742 0-2.414.398-.672.398-.672 1.36 0 .765.5 1.218.508.445 1.375.445 1.196 0 1.914-.843.727-.852.727-2.258v-.32zm2.867-.594v4.992h-1.437v-1.328q-.492.797-1.227 1.18-.734.375-1.797.375-1.343 0-2.14-.75-.79-.758-.79-2.024 0-1.476.985-2.226.992-.75 2.953-.75h2.016V8.75q0-.992-.656-1.531-.649-.547-1.829-.547-.75 0-1.46.18-.711.18-1.368.539V6.062q.79-.304 1.532-.453.742-.156 1.445-.156 1.898 0 2.836.984.937.985.937 2.985z\" /></g><g transform=\"translate(65, 1) scale(0.75, 0.75)\" fill=\"#e5e5e5\" stroke=\"#e5e5e5\"><path d=\"M24.922 10.047q0-1.586-.656-2.485-.649-.906-1.79-.906-1.14 0-1.796.906-.649.899-.649 2.485 0 1.586.649 2.492.656.898 1.797.898 1.14 0 1.789-.898.656-.906.656-2.492zm-4.89-3.055q.452-.781 1.14-1.156.695-.383 1.656-.383 1.594 0 2.586 1.266 1 1.265 1 3.328 0 2.062-1 3.328-.992 1.266-2.586 1.266-.96 0-1.656-.375-.688-.383-1.14-1.164v1.312h-1.446V2.258h1.445z\" /></g><g transform=\"translate(65, 375) scale(0.75, 0.75)\" fill=\"#e5e5e5\" stroke=\"#e5e5e5\"><path d=\"M24.922 10.047q0-1.586-.656-2.485-.649-.906-1.79-.906-1.14 0-1.796.906-.649.899-.649 2.485 0 1.586.649 2.492.656.898 1.797.898 1.14 0 1.789-.898.656-.906.656-2.492zm-4.89-3.055q.452-.781 1.14-1.156.695-.383 1.656-.383 1.594 0 2.586 1.266 1 1.265 1 3.328 0 2.062-1 3.328-.992 1.266-2.586 1.266-.96 0-1.656-.375-.688-.383-1.14-1.164v1.312h-1.446V2.258h1.445z\" /></g><g transform=\"translate(110, 1) scale(0.75, 0.75)\" fill=\"#e5e5e5\" stroke=\"#e5e5e5\"><path d=\"M25.96 6v1.344q-.608-.336-1.226-.5-.609-.172-1.234-.172-1.398 0-2.172.89-.773.883-.773 2.485 0 1.601.773 2.492.774.883 2.172.883.625 0 1.234-.164.618-.172 1.227-.508v1.328q-.602.281-1.25.422-.64.14-1.367.14-1.977 0-3.14-1.242-1.165-1.242-1.165-3.351 0-2.14 1.172-3.367 1.18-1.227 3.227-1.227.664 0 1.296.14.633.134 1.227.407z\" /></g><g transform=\"translate(110, 375) scale(0.75, 0.75)\" fill=\"#e5e5e5\" stroke=\"#e5e5e5\"><path d=\"M25.96 6v1.344q-.608-.336-1.226-.5-.609-.172-1.234-.172-1.398 0-2.172.89-.773.883-.773 2.485 0 1.601.773 2.492.774.883 2.172.883.625 0 1.234-.164.618-.172 1.227-.508v1.328q-.602.281-1.25.422-.64.14-1.367.14-1.977 0-3.14-1.242-1.165-1.242-1.165-3.351 0-2.14 1.172-3.367 1.18-1.227 3.227-1.227.664 0 1.296.14.633.134 1.227.407z\" /></g><g transform=\"translate(155, 1) scale(0.75, 0.75)\" fill=\"#e5e5e5\" stroke=\"#e5e5e5\"><path d=\"M24.973 6.992V2.258h1.437v12.156h-1.437v-1.312q-.453.78-1.149 1.164-.687.375-1.656.375-1.586 0-2.586-1.266-.992-1.266-.992-3.328 0-2.063.992-3.328 1-1.266 2.586-1.266.969 0 1.656.383.696.375 1.149 1.156zm-4.899 3.055q0 1.586.649 2.492.656.898 1.797.898 1.14 0 1.796-.898.657-.906.657-2.492 0-1.586-.657-2.485-.656-.906-1.796-.906-1.141 0-1.797.906-.649.899-.649 2.485z\" /></g><g transform=\"translate(155, 375) scale(0.75, 0.75)\" fill=\"#e5e5e5\" stroke=\"#e5e5e5\"><path d=\"M24.973 6.992V2.258h1.437v12.156h-1.437v-1.312q-.453.78-1.149 1.164-.687.375-1.656.375-1.586 0-2.586-1.266-.992-1.266-.992-3.328 0-2.063.992-3.328 1-1.266 2.586-1.266.969 0 1.656.383.696.375 1.149 1.156zm-4.899 3.055q0 1.586.649 2.492.656.898 1.797.898 1.14 0 1.796-.898.657-.906.657-2.492 0-1.586-.657-2.485-.656-.906-1.796-.906-1.141 0-1.797.906-.649.899-.649 2.485z\" /></g><g transform=\"translate(200, 1) scale(0.75, 0.75)\" fill=\"#e5e5e5\" stroke=\"#e5e5e5\"><path d=\"M26.555 9.68v.703h-6.61q.094 1.484.89 2.265.806.774 2.235.774.828 0 1.602-.203.781-.203 1.547-.61v1.36q-.774.328-1.586.5-.813.172-1.649.172-2.093 0-3.32-1.22-1.219-1.218-1.219-3.296 0-2.148 1.157-3.406 1.164-1.266 3.132-1.266 1.766 0 2.79 1.14 1.03 1.134 1.03 3.087zm-1.438-.422q-.015-1.18-.664-1.883-.64-.703-1.703-.703-1.203 0-1.93.68-.718.68-.828 1.914z\" /></g><g transform=\"translate(200, 375) scale(0.75, 0.75)\" fill=\"#e5e5e5\" stroke=\"#e5e5e5\"><path d=\"M26.555 9.68v.703h-6.61q.094 1.484.89 2.265.806.774 2.235.774.828 0 1.602-.203.781-.203 1.547-.61v1.36q-.774.328-1.586.5-.813.172-1.649.172-2.093 0-3.32-1.22-1.219-1.218-1.219-3.296 0-2.148 1.157-3.406 1.164-1.266 3.132-1.266 1.766 0 2.79 1.14 1.03 1.134 1.03 3.087zm-1.438-.422q-.015-1.18-.664-1.883-.64-.703-1.703-.703-1.203 0-1.93.68-.718.68-.828 1.914z\" /></g><g transform=\"translate(245, 1) scale(0.75, 0.75)\" fill=\"#e5e5e5\" stroke=\"#e5e5e5\"><path d=\"M25.285 2.258v1.195H23.91q-.773 0-1.078.313-.297.312-.297 1.125v.773h2.367v1.117h-2.367v7.633H21.09V6.781h-1.375V5.664h1.375v-.61q0-1.46.68-2.124.68-.672 2.156-.672z\" /></g><g transform=\"translate(245, 375) scale(0.75, 0.75)\" fill=\"#e5e5e5\" stroke=\"#e5e5e5\"><path d=\"M25.285 2.258v1.195H23.91q-.773 0-1.078.313-.297.312-.297 1.125v.773h2.367v1.117h-2.367v7.633H21.09V6.781h-1.375V5.664h1.375v-.61q0-1.46.68-2.124.68-.672 2.156-.672z\" /></g><g transform=\"translate(290, 1) scale(0.75, 0.75)\" fill=\"#e5e5e5\" stroke=\"#e5e5e5\"><path d=\"M24.973 9.937q0-1.562-.649-2.421-.64-.86-1.804-.86-1.157 0-1.805.86-.64.859-.64 2.421 0 1.555.64 2.415.648.859 1.805.859 1.164 0 1.804-.86.649-.859.649-2.414zm1.437 3.391q0 2.234-.992 3.32-.992 1.094-3.04 1.094-.757 0-1.429-.117-.672-.11-1.304-.344v-1.398q.632.344 1.25.508.617.164 1.257.164 1.414 0 2.118-.743.703-.734.703-2.226v-.711q-.446.773-1.141 1.156-.695.383-1.664.383-1.61 0-2.594-1.227-.984-1.226-.984-3.25 0-2.03.984-3.257.985-1.227 2.594-1.227.969 0 1.664.383t1.14 1.156V5.664h1.438z\" /></g><g transform=\"translate(290, 375) scale(0.75, 0.75)\" fill=\"#e5e5e5\" stroke=\"#e5e5e5\"><path d=\"M24.973 9.937q0-1.562-.649-2.421-.64-.86-1.804-.86-1.157 0-1.805.86-.64.859-.64 2.421 0 1.555.64 2.415.648.859 1.805.859 1.164 0 1.804-.86.649-.859.649-2.414zm1.437 3.391q0 2.234-.992 3.32-.992 1.094-3.04 1.094-.757 0-1.429-.117-.672-.11-1.304-.344v-1.398q.632.344 1.25.508.617.164 1.257.164 1.414 0 2.118-.743.703-.734.703-2.226v-.711q-.446.773-1.141 1.156-.695.383-1.664.383-1.61 0-2.594-1.227-.984-1.226-.984-3.25 0-2.03.984-3.257.985-1.227 2.594-1.227.969 0 1.664.383t1.14 1.156V5.664h1.438z\" /></g><g transform=\"translate(335, 1) scale(0.75, 0.75)\" fill=\"#e5e5e5\" stroke=\"#e5e5e5\"><path d=\"M26.164 9.133v5.281h-1.437V9.18q0-1.243-.485-1.86-.484-.617-1.453-.617-1.164 0-1.836.742-.672.742-.672 2.024v4.945h-1.445V2.258h1.445v4.765q.516-.789 1.211-1.18.703-.39 1.617-.39 1.508 0 2.282.938.773.93.773 2.742z\" /></g><g transform=\"translate(335, 375) scale(0.75, 0.75)\" fill=\"#e5e5e5\" stroke=\"#e5e5e5\"><path d=\"M26.164 9.133v5.281h-1.437V9.18q0-1.243-.485-1.86-.484-.617-1.453-.617-1.164 0-1.836.742-.672.742-.672 2.024v4.945h-1.445V2.258h1.445v4.765q.516-.789 1.211-1.18.703-.39 1.617-.39 1.508 0 2.282.938.773.93.773 2.742z\" /></g><g transform=\"translate(0, 335) scale(0.75, 0.75)\" fill=\"#e5e5e5\" stroke=\"#e5e5e5\"><path d=\"M6.754 26.996h2.578v-8.898l-2.805.562v-1.437l2.79-.563h1.578v10.336h2.578v1.328h-6.72z\" /></g><g transform=\"translate(375, 335) scale(0.75, 0.75)\" fill=\"#e5e5e5\" stroke=\"#e5e5e5\"><path d=\"M6.754 26.996h2.578v-8.898l-2.805.562v-1.437l2.79-.563h1.578v10.336h2.578v1.328h-6.72z\" /></g><g transform=\"translate(0, 290) scale(0.75, 0.75)\" fill=\"#e5e5e5\" stroke=\"#e5e5e5\"><path d=\"M8.195 26.996h5.508v1.328H6.297v-1.328q.898-.93 2.445-2.492 1.555-1.57 1.953-2.024.758-.851 1.055-1.437.305-.594.305-1.164 0-.93-.657-1.516-.648-.586-1.695-.586-.742 0-1.57.258-.82.258-1.758.781v-1.593q.953-.383 1.781-.578.828-.196 1.516-.196 1.812 0 2.89.906 1.079.907 1.079 2.422 0 .72-.274 1.368-.265.64-.976 1.515-.196.227-1.243 1.313-1.046 1.078-2.953 3.023z\" /></g><g transform=\"translate(375, 290) scale(0.75, 0.75)\" fill=\"#e5e5e5\" stroke=\"#e5e5e5\"><path d=\"M8.195 26.996h5.508v1.328H6.297v-1.328q.898-.93 2.445-2.492 1.555-1.57 1.953-2.024.758-.851 1.055-1.437.305-.594.305-1.164 0-.93-.657-1.516-.648-.586-1.695-.586-.742 0-1.57.258-.82.258-1.758.781v-1.593q.953-.383 1.781-.578.828-.196 1.516-.196 1.812 0 2.89.906 1.079.907 1.079 2.422 0 .72-.274 1.368-.265.64-.976 1.515-.196.227-1.243 1.313-1.046 1.078-2.953 3.023z\" /></g><g transform=\"translate(0, 245) scale(0.75, 0.75)\" fill=\"#e5e5e5\" stroke=\"#e5e5e5\"><path d=\"M11.434 22.035q1.132.242 1.765 1.008.64.766.64 1.89 0 1.727-1.187 2.672-1.187.946-3.375.946-.734 0-1.515-.149-.774-.14-1.602-.43V26.45q.656.383 1.438.578.78.196 1.632.196 1.485 0 2.258-.586.782-.586.782-1.703 0-1.032-.727-1.61-.719-.586-2.008-.586h-1.36v-1.297h1.423q1.164 0 1.78-.46.618-.47.618-1.344 0-.899-.64-1.375-.633-.485-1.82-.485-.65 0-1.391.141-.743.14-1.633.437V16.95q.898-.25 1.68-.375.788-.125 1.484-.125 1.797 0 2.844.82 1.046.813 1.046 2.204 0 .968-.554 1.64-.555.664-1.578.922z\" /></g><g transform=\"translate(375, 245) scale(0.75, 0.75)\" fill=\"#e5e5e5\" stroke=\"#e5e5e5\"><path d=\"M11.434 22.035q1.132.242 1.765 1.008.64.766.64 1.89 0 1.727-1.187 2.672-1.187.946-3.375.946-.734 0-1.515-.149-.774-.14-1.602-.43V26.45q.656.383 1.438.578.78.196 1.632.196 1.485 0 2.258-.586.782-.586.782-1.703 0-1.032-.727-1.61-.719-.586-2.008-.586h-1.36v-1.297h1.423q1.164 0 1.78-.46.618-.47.618-1.344 0-.899-.64-1.375-.633-.485-1.82-.485-.65 0-1.391.141-.743.14-1.633.437V16.95q.898-.25 1.68-.375.788-.125 1.484-.125 1.797 0 2.844.82 1.046.813 1.046 2.204 0 .968-.554 1.64-.555.664-1.578.922z\" /></g><g transform=\"translate(0, 200) scale(0.75, 0.75)\" fill=\"#e5e5e5\" stroke=\"#e5e5e5\"><path d=\"M11.016 18.035L7.03 24.262h3.985zm-.414-1.375h1.984v7.602h1.664v1.312h-1.664v2.75h-1.57v-2.75H5.75v-1.523z\" /></g><g transform=\"translate(375, 200) scale(0.75, 0.75)\" fill=\"#e5e5e5\" stroke=\"#e5e5e5\"><path d=\"M11.016 18.035L7.03 24.262h3.985zm-.414-1.375h1.984v7.602h1.664v1.312h-1.664v2.75h-1.57v-2.75H5.75v-1.523z\" /></g><g transform=\"translate(0, 155) scale(0.75, 0.75)\" fill=\"#e5e5e5\" stroke=\"#e5e5e5\"><path d=\"M6.719 16.66h6.195v1.328h-4.75v2.86q.344-.118.688-.172.343-.063.687-.063 1.953 0 3.094 1.07 1.14 1.07 1.14 2.899 0 1.883-1.171 2.93-1.172 1.039-3.305 1.039-.735 0-1.5-.125-.758-.125-1.57-.375v-1.586q.703.383 1.453.57.75.188 1.586.188 1.351 0 2.14-.711.79-.711.79-1.93 0-1.219-.79-1.93-.789-.71-2.14-.71-.633 0-1.266.14-.625.14-1.281.438z\" /></g><g transform=\"translate(375, 155) scale(0.75, 0.75)\" fill=\"#e5e5e5\" stroke=\"#e5e5e5\"><path d=\"M6.719 16.66h6.195v1.328h-4.75v2.86q.344-.118.688-.172.343-.063.687-.063 1.953 0 3.094 1.07 1.14 1.07 1.14 2.899 0 1.883-1.171 2.93-1.172 1.039-3.305 1.039-.735 0-1.5-.125-.758-.125-1.57-.375v-1.586q.703.383 1.453.57.75.188 1.586.188 1.351 0 2.14-.711.79-.711.79-1.93 0-1.219-.79-1.93-.789-.71-2.14-.71-.633 0-1.266.14-.625.14-1.281.438z\" /></g><g transform=\"translate(0, 110) scale(0.75, 0.75)\" fill=\"#e5e5e5\" stroke=\"#e5e5e5\"><path d=\"M10.137 21.863q-1.063 0-1.688.727-.617.726-.617 1.992 0 1.258.617 1.992.625.727 1.688.727 1.062 0 1.68-.727.624-.734.624-1.992 0-1.266-.625-1.992-.617-.727-1.68-.727zm3.133-4.945v1.437q-.594-.28-1.204-.43-.601-.148-1.195-.148-1.562 0-2.39 1.055-.82 1.055-.938 3.188.46-.68 1.156-1.04.696-.367 1.531-.367 1.758 0 2.774 1.07 1.023 1.063 1.023 2.899 0 1.797-1.062 2.883-1.063 1.086-2.828 1.086-2.024 0-3.094-1.547-1.07-1.555-1.07-4.5 0-2.766 1.312-4.406 1.313-1.649 3.524-1.649.593 0 1.195.117.61.118 1.266.352z\" /></g><g transform=\"translate(375, 110) scale(0.75, 0.75)\" fill=\"#e5e5e5\" stroke=\"#e5e5e5\"><path d=\"M10.137 21.863q-1.063 0-1.688.727-.617.726-.617 1.992 0 1.258.617 1.992.625.727 1.688.727 1.062 0 1.68-.727.624-.734.624-1.992 0-1.266-.625-1.992-.617-.727-1.68-.727zm3.133-4.945v1.437q-.594-.28-1.204-.43-.601-.148-1.195-.148-1.562 0-2.39 1.055-.82 1.055-.938 3.188.46-.68 1.156-1.04.696-.367 1.531-.367 1.758 0 2.774 1.07 1.023 1.063 1.023 2.899 0 1.797-1.062 2.883-1.063 1.086-2.828 1.086-2.024 0-3.094-1.547-1.07-1.555-1.07-4.5 0-2.766 1.312-4.406 1.313-1.649 3.524-1.649.593 0 1.195.117.61.118 1.266.352z\" /></g><g transform=\"translate(0, 65) scale(0.75, 0.75)\" fill=\"#e5e5e5\" stroke=\"#e5e5e5\"><path d=\"M6.25 16.66h7.5v.672L9.516 28.324H7.867l3.985-10.336H6.25z\" /></g><g transform=\"translate(375, 65) scale(0.75, 0.75)\" fill=\"#e5e5e5\" stroke=\"#e5e5e5\"><path d=\"M6.25 16.66h7.5v.672L9.516 28.324H7.867l3.985-10.336H6.25z\" /></g><g transform=\"translate(0, 20) scale(0.75, 0.75)\" fill=\"#e5e5e5\" stroke=\"#e5e5e5\"><path d=\"M10 22.785q-1.125 0-1.773.602-.641.601-.641 1.656t.64 1.656q.649.602 1.774.602t1.773-.602q.649-.61.649-1.656 0-1.055-.649-1.656-.64-.602-1.773-.602zm-1.578-.672q-1.016-.25-1.586-.945-.563-.695-.563-1.695 0-1.399.993-2.211 1-.813 2.734-.813 1.742 0 2.734.813.993.812.993 2.21 0 1-.57 1.696-.563.695-1.571.945 1.14.266 1.773 1.04.641.773.641 1.89 0 1.695-1.04 2.602-1.03.906-2.96.906t-2.969-.906Q6 26.738 6 25.043q0-1.117.64-1.89.641-.774 1.782-1.04zm-.578-2.492q0 .906.562 1.414.57.508 1.594.508 1.016 0 1.586-.508.578-.508.578-1.414 0-.906-.578-1.414-.57-.508-1.586-.508-1.023 0-1.594.508-.562.508-.562 1.414z\" /></g><g transform=\"translate(375, 20) scale(0.75, 0.75)\" fill=\"#e5e5e5\" stroke=\"#e5e5e5\"><path d=\"M10 22.785q-1.125 0-1.773.602-.641.601-.641 1.656t.64 1.656q.649.602 1.774.602t1.773-.602q.649-.61.649-1.656 0-1.055-.649-1.656-.64-.602-1.773-.602zm-1.578-.672q-1.016-.25-1.586-.945-.563-.695-.563-1.695 0-1.399.993-2.211 1-.813 2.734-.813 1.742 0 2.734.813.993.812.993 2.21 0 1-.57 1.696-.563.695-1.571.945 1.14.266 1.773 1.04.641.773.641 1.89 0 1.695-1.04 2.602-1.03.906-2.96.906t-2.969-.906Q6 26.738 6 25.043q0-1.117.64-1.89.641-.774 1.782-1.04zm-.578-2.492q0 .906.562 1.414.57.508 1.594.508 1.016 0 1.586-.508.578-.508.578-1.414 0-.906-.578-1.414-.57-.508-1.586-.508-1.023 0-1.594.508-.562.508-.562 1.414z\" /></g><rect x=\"15\" y=\"330\" width=\"45\" height=\"45\" class=\"square dark a1\" stroke=\"none\" fill=\"#d18b47\" /><rect x=\"60\" y=\"330\" width=\"45\" height=\"45\" class=\"square light b1\" stroke=\"none\" fill=\"#ffce9e\" /><rect x=\"105\" y=\"330\" width=\"45\" height=\"45\" class=\"square dark c1\" stroke=\"none\" fill=\"#d18b47\" /><rect x=\"150\" y=\"330\" width=\"45\" height=\"45\" class=\"square light d1\" stroke=\"none\" fill=\"#ffce9e\" /><rect x=\"195\" y=\"330\" width=\"45\" height=\"45\" class=\"square dark e1\" stroke=\"none\" fill=\"#d18b47\" /><rect x=\"240\" y=\"330\" width=\"45\" height=\"45\" class=\"square light f1\" stroke=\"none\" fill=\"#ffce9e\" /><rect x=\"285\" y=\"330\" width=\"45\" height=\"45\" class=\"square dark g1\" stroke=\"none\" fill=\"#d18b47\" /><rect x=\"330\" y=\"330\" width=\"45\" height=\"45\" class=\"square light h1\" stroke=\"none\" fill=\"#ffce9e\" /><rect x=\"15\" y=\"285\" width=\"45\" height=\"45\" class=\"square light a2\" stroke=\"none\" fill=\"#ffce9e\" /><rect x=\"60\" y=\"285\" width=\"45\" height=\"45\" class=\"square dark b2\" stroke=\"none\" fill=\"#d18b47\" /><rect x=\"105\" y=\"285\" width=\"45\" height=\"45\" class=\"square light c2\" stroke=\"none\" fill=\"#ffce9e\" /><rect x=\"150\" y=\"285\" width=\"45\" height=\"45\" class=\"square dark d2\" stroke=\"none\" fill=\"#d18b47\" /><rect x=\"195\" y=\"285\" width=\"45\" height=\"45\" class=\"square light e2\" stroke=\"none\" fill=\"#ffce9e\" /><rect x=\"240\" y=\"285\" width=\"45\" height=\"45\" class=\"square dark f2\" stroke=\"none\" fill=\"#d18b47\" /><rect x=\"285\" y=\"285\" width=\"45\" height=\"45\" class=\"square light g2\" stroke=\"none\" fill=\"#ffce9e\" /><rect x=\"330\" y=\"285\" width=\"45\" height=\"45\" class=\"square dark h2\" stroke=\"none\" fill=\"#d18b47\" /><rect x=\"15\" y=\"240\" width=\"45\" height=\"45\" class=\"square dark a3\" stroke=\"none\" fill=\"#d18b47\" /><rect x=\"60\" y=\"240\" width=\"45\" height=\"45\" class=\"square light b3\" stroke=\"none\" fill=\"#ffce9e\" /><rect x=\"105\" y=\"240\" width=\"45\" height=\"45\" class=\"square dark c3\" stroke=\"none\" fill=\"#d18b47\" /><rect x=\"150\" y=\"240\" width=\"45\" height=\"45\" class=\"square light d3\" stroke=\"none\" fill=\"#ffce9e\" /><rect x=\"195\" y=\"240\" width=\"45\" height=\"45\" class=\"square dark e3\" stroke=\"none\" fill=\"#d18b47\" /><rect x=\"240\" y=\"240\" width=\"45\" height=\"45\" class=\"square light f3\" stroke=\"none\" fill=\"#ffce9e\" /><rect x=\"285\" y=\"240\" width=\"45\" height=\"45\" class=\"square dark g3\" stroke=\"none\" fill=\"#d18b47\" /><rect x=\"330\" y=\"240\" width=\"45\" height=\"45\" class=\"square light h3\" stroke=\"none\" fill=\"#ffce9e\" /><rect x=\"15\" y=\"195\" width=\"45\" height=\"45\" class=\"square light a4\" stroke=\"none\" fill=\"#ffce9e\" /><rect x=\"60\" y=\"195\" width=\"45\" height=\"45\" class=\"square dark b4\" stroke=\"none\" fill=\"#d18b47\" /><rect x=\"105\" y=\"195\" width=\"45\" height=\"45\" class=\"square light c4\" stroke=\"none\" fill=\"#ffce9e\" /><rect x=\"150\" y=\"195\" width=\"45\" height=\"45\" class=\"square dark d4\" stroke=\"none\" fill=\"#d18b47\" /><rect x=\"195\" y=\"195\" width=\"45\" height=\"45\" class=\"square light e4\" stroke=\"none\" fill=\"#ffce9e\" /><rect x=\"240\" y=\"195\" width=\"45\" height=\"45\" class=\"square dark f4\" stroke=\"none\" fill=\"#d18b47\" /><rect x=\"285\" y=\"195\" width=\"45\" height=\"45\" class=\"square light g4\" stroke=\"none\" fill=\"#ffce9e\" /><rect x=\"330\" y=\"195\" width=\"45\" height=\"45\" class=\"square dark h4\" stroke=\"none\" fill=\"#d18b47\" /><rect x=\"15\" y=\"150\" width=\"45\" height=\"45\" class=\"square dark a5\" stroke=\"none\" fill=\"#d18b47\" /><rect x=\"60\" y=\"150\" width=\"45\" height=\"45\" class=\"square light b5\" stroke=\"none\" fill=\"#ffce9e\" /><rect x=\"105\" y=\"150\" width=\"45\" height=\"45\" class=\"square dark c5\" stroke=\"none\" fill=\"#d18b47\" /><rect x=\"150\" y=\"150\" width=\"45\" height=\"45\" class=\"square light d5\" stroke=\"none\" fill=\"#ffce9e\" /><rect x=\"195\" y=\"150\" width=\"45\" height=\"45\" class=\"square dark e5\" stroke=\"none\" fill=\"#d18b47\" /><rect x=\"240\" y=\"150\" width=\"45\" height=\"45\" class=\"square light f5\" stroke=\"none\" fill=\"#ffce9e\" /><rect x=\"285\" y=\"150\" width=\"45\" height=\"45\" class=\"square dark g5\" stroke=\"none\" fill=\"#d18b47\" /><rect x=\"330\" y=\"150\" width=\"45\" height=\"45\" class=\"square light h5\" stroke=\"none\" fill=\"#ffce9e\" /><rect x=\"15\" y=\"105\" width=\"45\" height=\"45\" class=\"square light a6\" stroke=\"none\" fill=\"#ffce9e\" /><rect x=\"60\" y=\"105\" width=\"45\" height=\"45\" class=\"square dark b6\" stroke=\"none\" fill=\"#d18b47\" /><rect x=\"105\" y=\"105\" width=\"45\" height=\"45\" class=\"square light c6\" stroke=\"none\" fill=\"#ffce9e\" /><rect x=\"150\" y=\"105\" width=\"45\" height=\"45\" class=\"square dark d6\" stroke=\"none\" fill=\"#d18b47\" /><rect x=\"195\" y=\"105\" width=\"45\" height=\"45\" class=\"square light e6\" stroke=\"none\" fill=\"#ffce9e\" /><rect x=\"240\" y=\"105\" width=\"45\" height=\"45\" class=\"square dark f6\" stroke=\"none\" fill=\"#d18b47\" /><rect x=\"285\" y=\"105\" width=\"45\" height=\"45\" class=\"square light g6\" stroke=\"none\" fill=\"#ffce9e\" /><rect x=\"330\" y=\"105\" width=\"45\" height=\"45\" class=\"square dark h6\" stroke=\"none\" fill=\"#d18b47\" /><rect x=\"15\" y=\"60\" width=\"45\" height=\"45\" class=\"square dark a7\" stroke=\"none\" fill=\"#d18b47\" /><rect x=\"60\" y=\"60\" width=\"45\" height=\"45\" class=\"square light b7\" stroke=\"none\" fill=\"#ffce9e\" /><rect x=\"105\" y=\"60\" width=\"45\" height=\"45\" class=\"square dark c7\" stroke=\"none\" fill=\"#d18b47\" /><rect x=\"150\" y=\"60\" width=\"45\" height=\"45\" class=\"square light lastmove d7\" stroke=\"none\" fill=\"#cdd16a\" /><rect x=\"195\" y=\"60\" width=\"45\" height=\"45\" class=\"square dark e7\" stroke=\"none\" fill=\"#d18b47\" /><rect x=\"240\" y=\"60\" width=\"45\" height=\"45\" class=\"square light f7\" stroke=\"none\" fill=\"#ffce9e\" /><rect x=\"285\" y=\"60\" width=\"45\" height=\"45\" class=\"square dark g7\" stroke=\"none\" fill=\"#d18b47\" /><rect x=\"330\" y=\"60\" width=\"45\" height=\"45\" class=\"square light h7\" stroke=\"none\" fill=\"#ffce9e\" /><rect x=\"15\" y=\"15\" width=\"45\" height=\"45\" class=\"square light a8\" stroke=\"none\" fill=\"#ffce9e\" /><rect x=\"60\" y=\"15\" width=\"45\" height=\"45\" class=\"square dark b8\" stroke=\"none\" fill=\"#d18b47\" /><rect x=\"105\" y=\"15\" width=\"45\" height=\"45\" class=\"square light c8\" stroke=\"none\" fill=\"#ffce9e\" /><rect x=\"150\" y=\"15\" width=\"45\" height=\"45\" class=\"square dark d8\" stroke=\"none\" fill=\"#d18b47\" /><rect x=\"195\" y=\"15\" width=\"45\" height=\"45\" class=\"square light lastmove e8\" stroke=\"none\" fill=\"#cdd16a\" /><rect x=\"240\" y=\"15\" width=\"45\" height=\"45\" class=\"square dark f8\" stroke=\"none\" fill=\"#d18b47\" /><rect x=\"285\" y=\"15\" width=\"45\" height=\"45\" class=\"square light g8\" stroke=\"none\" fill=\"#ffce9e\" /><rect x=\"330\" y=\"15\" width=\"45\" height=\"45\" class=\"square dark h8\" stroke=\"none\" fill=\"#d18b47\" /><use href=\"#white-rook\" xlink:href=\"#white-rook\" transform=\"translate(60, 330)\" /><use href=\"#white-king\" xlink:href=\"#white-king\" transform=\"translate(150, 330)\" /><use href=\"#white-pawn\" xlink:href=\"#white-pawn\" transform=\"translate(15, 285)\" /><use href=\"#white-pawn\" xlink:href=\"#white-pawn\" transform=\"translate(60, 285)\" /><use href=\"#white-pawn\" xlink:href=\"#white-pawn\" transform=\"translate(105, 285)\" /><use href=\"#white-pawn\" xlink:href=\"#white-pawn\" transform=\"translate(150, 240)\" /><use href=\"#black-pawn\" xlink:href=\"#black-pawn\" transform=\"translate(150, 195)\" /><use href=\"#black-pawn\" xlink:href=\"#black-pawn\" transform=\"translate(60, 105)\" /><use href=\"#white-rook\" xlink:href=\"#white-rook\" transform=\"translate(105, 105)\" /><use href=\"#black-pawn\" xlink:href=\"#black-pawn\" transform=\"translate(15, 60)\" /><use href=\"#black-king\" xlink:href=\"#black-king\" transform=\"translate(150, 60)\" /><use href=\"#black-queen\" xlink:href=\"#black-queen\" transform=\"translate(330, 60)\" /></svg>"
            ],
            "text/plain": [
              "Board('8/p2k3q/1pR5/8/3p4/3P4/PPP5/1R1K4 w - - 37 61')"
            ]
          },
          "metadata": {},
          "output_type": "display_data"
        },
        {
          "data": {
            "image/png": "[encoded data removed]",
            "text/plain": [
              "<Figure size 400x400 with 1 Axes>"
            ]
          },
          "metadata": {},
          "output_type": "display_data"
        },
        {
          "data": {
            "text/plain": [
              "Result(winner='stalemate', reason='FIVEFOLD_REPETITION', board=Board('8/p2k3q/1pR5/8/3p4/3P4/PPP5/1R1K4 w - - 37 61'))"
            ]
          },
          "metadata": {},
          "output_type": "display_data"
        }
      ],
      "source": [
        "display(play(Player(memory_model), Player(baseline), animate=0.2, decay=0.8))"
      ]
    }
  ],
  "metadata": {
    "accelerator": "GPU",
    "colab": {
      "collapsed_sections": [
        "275eVBNSZV4h",
        "E4Y49583Z8yn"
      ],
      "gpuType": "T4",
      "provenance": []
    },
    "kernelspec": {
      "display_name": ".venv",
      "language": "python",
      "name": "python3"
    },
    "language_info": {
      "codemirror_mode": {
        "name": "ipython",
        "version": 3
      },
      "file_extension": ".py",
      "mimetype": "text/x-python",
      "name": "python",
      "nbconvert_exporter": "python",
      "pygments_lexer": "ipython3",
      "version": "3.12.7"
    }
  },
  "nbformat": 4,
  "nbformat_minor": 0
}
